{
 "cells": [
  {
   "cell_type": "code",
   "execution_count": 2,
   "metadata": {},
   "outputs": [],
   "source": [
    "from keras.datasets import cifar10\n",
    "import numpy as np\n",
    "np.random.seed(10)"
   ]
  },
  {
   "cell_type": "code",
   "execution_count": 4,
   "metadata": {},
   "outputs": [],
   "source": [
    "(x_img_train, y_label_train),(x_img_test, y_label_test)=cifar10.load_data()"
   ]
  },
  {
   "cell_type": "code",
   "execution_count": 6,
   "metadata": {},
   "outputs": [
    {
     "name": "stdout",
     "output_type": "stream",
     "text": [
      "train data: images: (50000, 32, 32, 3)  labels: (50000, 1)\n",
      "test data images:  (10000, 32, 32, 3)  labels: (10000, 1)\n"
     ]
    }
   ],
   "source": [
    "print(\"train data:\", 'images:', x_img_train.shape, \" labels:\", y_label_train.shape)\n",
    "print(\"test data\", 'images: ', x_img_test.shape, \" labels:\", y_label_test.shape)"
   ]
  },
  {
   "cell_type": "code",
   "execution_count": 35,
   "metadata": {},
   "outputs": [],
   "source": [
    "x_img_train_normalize = x_img_train.astype('float32')/255.0\n",
    "x_img_test_normalize = x_img_test.astype('float32')/255.0"
   ]
  },
  {
   "cell_type": "code",
   "execution_count": 9,
   "metadata": {},
   "outputs": [],
   "source": [
    "from keras.utils import np_utils\n",
    "y_label_train_OneHot = np_utils.to_categorical(y_label_train)\n",
    "y_label_test_OneHot = np_utils.to_categorical(y_label_test)"
   ]
  },
  {
   "cell_type": "code",
   "execution_count": 10,
   "metadata": {},
   "outputs": [],
   "source": [
    "from keras.models import Sequential\n",
    "from keras.layers import Dense, Dropout, Activation, Flatten\n",
    "from keras.layers import Conv2D, MaxPooling2D, ZeroPadding2D"
   ]
  },
  {
   "cell_type": "code",
   "execution_count": 49,
   "metadata": {},
   "outputs": [],
   "source": [
    "model = Sequential()\n",
    "model.add(Conv2D(filters=32, kernel_size=(3,3), input_shape=(32, 32, 3), activation='relu', padding='same'))"
   ]
  },
  {
   "cell_type": "code",
   "execution_count": 50,
   "metadata": {},
   "outputs": [],
   "source": [
    "model.add(Dropout(rate=0.3))\n",
    "model.add(Conv2D(filters=32, kernel_size=(3,3), activation='relu', padding='same'))"
   ]
  },
  {
   "cell_type": "code",
   "execution_count": 51,
   "metadata": {},
   "outputs": [],
   "source": [
    "model.add(MaxPooling2D(pool_size=(2,2)))"
   ]
  },
  {
   "cell_type": "code",
   "execution_count": 52,
   "metadata": {},
   "outputs": [],
   "source": [
    "model.add(Conv2D(filters=64, kernel_size=(3,3),activation='relu', padding='same'))"
   ]
  },
  {
   "cell_type": "code",
   "execution_count": 53,
   "metadata": {},
   "outputs": [],
   "source": [
    "model.add(Dropout(0.3))\n",
    "model.add(Conv2D(filters=64, kernel_size=(3, 3), activation='relu', padding='same'))"
   ]
  },
  {
   "cell_type": "code",
   "execution_count": 55,
   "metadata": {},
   "outputs": [],
   "source": [
    "model.add(MaxPooling2D(pool_size=(2, 2)))\n",
    "model.add(Conv2D(filters=128, kernel_size=(3, 3), activation='relu', padding='same'))\n",
    "model.add(Dropout(0.3))\n",
    "model.add(Conv2D(filters=128, kernel_size=(3, 3), activation='relu', padding='same'))\n",
    "model.add(MaxPooling2D(pool_size=(2, 2)))"
   ]
  },
  {
   "cell_type": "code",
   "execution_count": 56,
   "metadata": {},
   "outputs": [],
   "source": [
    "model.add(Flatten())"
   ]
  },
  {
   "cell_type": "code",
   "execution_count": 57,
   "metadata": {},
   "outputs": [],
   "source": [
    "model.add(Dropout(0.3))"
   ]
  },
  {
   "cell_type": "code",
   "execution_count": 19,
   "metadata": {},
   "outputs": [],
   "source": [
    "model.add(Dense(2500,  activation='relu'))"
   ]
  },
  {
   "cell_type": "code",
   "execution_count": 58,
   "metadata": {},
   "outputs": [],
   "source": [
    "model.add(Dropout(rate=0.3))\n",
    "model.add(Dense(1500, activation='relu'))\n",
    "model.add(Dropout(0.3))"
   ]
  },
  {
   "cell_type": "code",
   "execution_count": 59,
   "metadata": {},
   "outputs": [],
   "source": [
    "model.add(Dense(10, activation='softmax'))"
   ]
  },
  {
   "cell_type": "code",
   "execution_count": 22,
   "metadata": {},
   "outputs": [
    {
     "name": "stdout",
     "output_type": "stream",
     "text": [
      "_________________________________________________________________\n",
      "Layer (type)                 Output Shape              Param #   \n",
      "=================================================================\n",
      "conv2d_1 (Conv2D)            (None, 32, 32, 32)        896       \n",
      "_________________________________________________________________\n",
      "dropout_1 (Dropout)          (None, 32, 32, 32)        0         \n",
      "_________________________________________________________________\n",
      "max_pooling2d_1 (MaxPooling2 (None, 16, 16, 32)        0         \n",
      "_________________________________________________________________\n",
      "conv2d_2 (Conv2D)            (None, 16, 16, 64)        18496     \n",
      "_________________________________________________________________\n",
      "dropout_2 (Dropout)          (None, 16, 16, 64)        0         \n",
      "_________________________________________________________________\n",
      "max_pooling2d_2 (MaxPooling2 (None, 8, 8, 64)          0         \n",
      "_________________________________________________________________\n",
      "flatten_1 (Flatten)          (None, 4096)              0         \n",
      "_________________________________________________________________\n",
      "dropout_3 (Dropout)          (None, 4096)              0         \n",
      "_________________________________________________________________\n",
      "dense_1 (Dense)              (None, 1024)              4195328   \n",
      "_________________________________________________________________\n",
      "dropout_4 (Dropout)          (None, 1024)              0         \n",
      "_________________________________________________________________\n",
      "dense_2 (Dense)              (None, 10)                10250     \n",
      "=================================================================\n",
      "Total params: 4,224,970\n",
      "Trainable params: 4,224,970\n",
      "Non-trainable params: 0\n",
      "_________________________________________________________________\n",
      "None\n"
     ]
    }
   ],
   "source": [
    "print(model.summary())"
   ]
  },
  {
   "cell_type": "code",
   "execution_count": 60,
   "metadata": {},
   "outputs": [],
   "source": [
    "model.compile(loss='categorical_crossentropy', optimizer='adam', metrics=['accuracy'])"
   ]
  },
  {
   "cell_type": "code",
   "execution_count": 61,
   "metadata": {},
   "outputs": [
    {
     "name": "stdout",
     "output_type": "stream",
     "text": [
      "Train on 40000 samples, validate on 10000 samples\n",
      "Epoch 1/50\n",
      "40000/40000 [==============================] - 343s 9ms/step - loss: 1.9765 - acc: 0.2587 - val_loss: 1.7670 - val_acc: 0.3615\n",
      "Epoch 2/50\n",
      "40000/40000 [==============================] - 342s 9ms/step - loss: 1.5601 - acc: 0.4188 - val_loss: 1.5146 - val_acc: 0.4508\n",
      "Epoch 3/50\n",
      "40000/40000 [==============================] - 330s 8ms/step - loss: 1.3656 - acc: 0.4994 - val_loss: 1.2287 - val_acc: 0.5569\n",
      "Epoch 4/50\n",
      "40000/40000 [==============================] - 326s 8ms/step - loss: 1.2298 - acc: 0.5550 - val_loss: 1.1518 - val_acc: 0.5865\n",
      "Epoch 5/50\n",
      "40000/40000 [==============================] - 328s 8ms/step - loss: 1.1229 - acc: 0.5965 - val_loss: 1.0830 - val_acc: 0.6119\n",
      "Epoch 6/50\n",
      "40000/40000 [==============================] - 332s 8ms/step - loss: 1.0433 - acc: 0.6313 - val_loss: 1.0293 - val_acc: 0.6446\n",
      "Epoch 7/50\n",
      "40000/40000 [==============================] - 341s 9ms/step - loss: 0.9852 - acc: 0.6514 - val_loss: 0.9427 - val_acc: 0.6669\n",
      "Epoch 8/50\n",
      "40000/40000 [==============================] - 346s 9ms/step - loss: 0.9271 - acc: 0.6708 - val_loss: 0.9086 - val_acc: 0.6816\n",
      "Epoch 9/50\n",
      "40000/40000 [==============================] - 349s 9ms/step - loss: 0.8863 - acc: 0.6857 - val_loss: 0.8446 - val_acc: 0.7092\n",
      "Epoch 10/50\n",
      "40000/40000 [==============================] - 342s 9ms/step - loss: 0.8427 - acc: 0.7002 - val_loss: 0.8524 - val_acc: 0.7056\n",
      "Epoch 11/50\n",
      "40000/40000 [==============================] - 341s 9ms/step - loss: 0.8205 - acc: 0.7111 - val_loss: 0.7900 - val_acc: 0.7280\n",
      "Epoch 12/50\n",
      "40000/40000 [==============================] - 339s 8ms/step - loss: 0.7760 - acc: 0.7259 - val_loss: 0.7596 - val_acc: 0.7344\n",
      "Epoch 13/50\n",
      "40000/40000 [==============================] - 341s 9ms/step - loss: 0.7573 - acc: 0.7340 - val_loss: 0.7843 - val_acc: 0.7279\n",
      "Epoch 14/50\n",
      "40000/40000 [==============================] - 337s 8ms/step - loss: 0.7316 - acc: 0.7412 - val_loss: 0.7443 - val_acc: 0.7396\n",
      "Epoch 15/50\n",
      "40000/40000 [==============================] - 335s 8ms/step - loss: 0.6980 - acc: 0.7534 - val_loss: 0.7091 - val_acc: 0.7522\n",
      "Epoch 16/50\n",
      "40000/40000 [==============================] - 335s 8ms/step - loss: 0.6905 - acc: 0.7579 - val_loss: 0.6811 - val_acc: 0.7657\n",
      "Epoch 17/50\n",
      "40000/40000 [==============================] - 377s 9ms/step - loss: 0.6669 - acc: 0.7659 - val_loss: 0.7081 - val_acc: 0.7578\n",
      "Epoch 18/50\n",
      "40000/40000 [==============================] - 406s 10ms/step - loss: 0.6559 - acc: 0.7674 - val_loss: 0.6735 - val_acc: 0.7648\n",
      "Epoch 19/50\n",
      "40000/40000 [==============================] - 401s 10ms/step - loss: 0.6373 - acc: 0.7775 - val_loss: 0.6737 - val_acc: 0.7672\n",
      "Epoch 20/50\n",
      "40000/40000 [==============================] - 390s 10ms/step - loss: 0.6107 - acc: 0.7833 - val_loss: 0.6649 - val_acc: 0.7713\n",
      "Epoch 21/50\n",
      "40000/40000 [==============================] - 397s 10ms/step - loss: 0.6074 - acc: 0.7834 - val_loss: 0.6842 - val_acc: 0.7631\n",
      "Epoch 22/50\n",
      "40000/40000 [==============================] - 385s 10ms/step - loss: 0.6045 - acc: 0.7853 - val_loss: 0.6347 - val_acc: 0.7780\n",
      "Epoch 23/50\n",
      "40000/40000 [==============================] - 424s 11ms/step - loss: 0.5829 - acc: 0.7951 - val_loss: 0.6413 - val_acc: 0.7804\n",
      "Epoch 24/50\n",
      "40000/40000 [==============================] - 436s 11ms/step - loss: 0.5687 - acc: 0.7981 - val_loss: 0.6618 - val_acc: 0.7670\n",
      "Epoch 25/50\n",
      "40000/40000 [==============================] - 399s 10ms/step - loss: 0.5644 - acc: 0.7995 - val_loss: 0.6256 - val_acc: 0.7806\n",
      "Epoch 26/50\n",
      "40000/40000 [==============================] - 399s 10ms/step - loss: 0.5527 - acc: 0.8046 - val_loss: 0.6206 - val_acc: 0.7857\n",
      "Epoch 27/50\n",
      "40000/40000 [==============================] - 386s 10ms/step - loss: 0.5462 - acc: 0.8062 - val_loss: 0.6447 - val_acc: 0.7791\n",
      "Epoch 28/50\n",
      "40000/40000 [==============================] - 409s 10ms/step - loss: 0.5306 - acc: 0.8127 - val_loss: 0.6307 - val_acc: 0.7823\n",
      "Epoch 29/50\n",
      "40000/40000 [==============================] - 379s 9ms/step - loss: 0.5214 - acc: 0.8157 - val_loss: 0.6074 - val_acc: 0.7903\n",
      "Epoch 30/50\n",
      "40000/40000 [==============================] - 352s 9ms/step - loss: 0.5135 - acc: 0.8194 - val_loss: 0.6040 - val_acc: 0.7895\n",
      "Epoch 31/50\n",
      "40000/40000 [==============================] - 359s 9ms/step - loss: 0.5115 - acc: 0.8187 - val_loss: 0.6359 - val_acc: 0.7814\n",
      "Epoch 32/50\n",
      "40000/40000 [==============================] - 366s 9ms/step - loss: 0.5045 - acc: 0.8202 - val_loss: 0.6028 - val_acc: 0.7935\n",
      "Epoch 33/50\n",
      "40000/40000 [==============================] - 390s 10ms/step - loss: 0.4930 - acc: 0.8253 - val_loss: 0.6047 - val_acc: 0.7929\n",
      "Epoch 34/50\n",
      "40000/40000 [==============================] - 375s 9ms/step - loss: 0.4891 - acc: 0.8244 - val_loss: 0.6050 - val_acc: 0.7941\n",
      "Epoch 35/50\n",
      "40000/40000 [==============================] - 371s 9ms/step - loss: 0.4843 - acc: 0.8286 - val_loss: 0.6436 - val_acc: 0.7796\n",
      "Epoch 36/50\n",
      "40000/40000 [==============================] - 370s 9ms/step - loss: 0.4717 - acc: 0.8326 - val_loss: 0.6030 - val_acc: 0.7993\n",
      "Epoch 37/50\n",
      "40000/40000 [==============================] - 369s 9ms/step - loss: 0.4726 - acc: 0.8306 - val_loss: 0.6193 - val_acc: 0.7950\n",
      "Epoch 38/50\n",
      "40000/40000 [==============================] - 356s 9ms/step - loss: 0.4653 - acc: 0.8360 - val_loss: 0.6073 - val_acc: 0.7965\n",
      "Epoch 39/50\n",
      "40000/40000 [==============================] - 353s 9ms/step - loss: 0.4576 - acc: 0.8370 - val_loss: 0.5991 - val_acc: 0.7939\n",
      "Epoch 40/50\n",
      "40000/40000 [==============================] - 353s 9ms/step - loss: 0.4551 - acc: 0.8391 - val_loss: 0.5952 - val_acc: 0.7980\n",
      "Epoch 41/50\n",
      "40000/40000 [==============================] - 353s 9ms/step - loss: 0.4541 - acc: 0.8390 - val_loss: 0.5957 - val_acc: 0.7993\n",
      "Epoch 42/50\n",
      "40000/40000 [==============================] - 356s 9ms/step - loss: 0.4403 - acc: 0.8412 - val_loss: 0.5974 - val_acc: 0.7990\n",
      "Epoch 43/50\n",
      "40000/40000 [==============================] - 363s 9ms/step - loss: 0.4372 - acc: 0.8450 - val_loss: 0.5947 - val_acc: 0.7996\n",
      "Epoch 44/50\n",
      "40000/40000 [==============================] - 396s 10ms/step - loss: 0.4384 - acc: 0.8450 - val_loss: 0.6228 - val_acc: 0.7931\n",
      "Epoch 45/50\n",
      "40000/40000 [==============================] - 443s 11ms/step - loss: 0.4340 - acc: 0.8456 - val_loss: 0.5903 - val_acc: 0.8010\n",
      "Epoch 46/50\n",
      "40000/40000 [==============================] - 445s 11ms/step - loss: 0.4228 - acc: 0.8478 - val_loss: 0.6302 - val_acc: 0.7853\n",
      "Epoch 47/50\n",
      "40000/40000 [==============================] - 400s 10ms/step - loss: 0.4245 - acc: 0.8481 - val_loss: 0.5807 - val_acc: 0.8076\n",
      "Epoch 48/50\n",
      "40000/40000 [==============================] - 372s 9ms/step - loss: 0.4204 - acc: 0.8492 - val_loss: 0.5782 - val_acc: 0.8070\n",
      "Epoch 49/50\n",
      "40000/40000 [==============================] - 368s 9ms/step - loss: 0.4137 - acc: 0.8520 - val_loss: 0.5839 - val_acc: 0.8039\n",
      "Epoch 50/50\n",
      "40000/40000 [==============================] - 358s 9ms/step - loss: 0.4160 - acc: 0.8521 - val_loss: 0.5868 - val_acc: 0.8033\n"
     ]
    }
   ],
   "source": [
    "train_history = model.fit(x_img_train_normalize, y_label_train_OneHot, validation_split=0.2, epochs=50, batch_size=300, verbose=1)"
   ]
  },
  {
   "cell_type": "code",
   "execution_count": 25,
   "metadata": {},
   "outputs": [],
   "source": [
    "import matplotlib.pyplot as plt\n",
    "def plot_images_labels_prediction(images, labels, prediction, idx, num=10):\n",
    "    fig = plt.gcf()\n",
    "    fig.set_size_inches(12, 14)\n",
    "    if num>25: num=25\n",
    "    for i in range(0, num):\n",
    "        ax=plt.subplot(5,5,1+i)\n",
    "        ax.imshow(images[idx], cmap='binary')\n",
    "        title=str(i)+','+label_dict[labels[i][0]]\n",
    "        if len(prediction)>0:\n",
    "            title += '=>'+label_dict[prediction[i]]\n",
    "        ax.set_title(title, fontsize=10)\n",
    "        ax.set_xticks([]);ax.set_yticks([])\n",
    "        idx+=1\n",
    "    plt.show()"
   ]
  },
  {
   "cell_type": "code",
   "execution_count": 27,
   "metadata": {},
   "outputs": [],
   "source": [
    "label_dict={0:\"airplane\", 1:\"automobile\", 2:\"bird\", 3:\"cat\", 4:\"deer\", 5:\"dog\", 6:\"frog\", 7:\"horse\", 8:\"ship\", 9:\"trunk\"}"
   ]
  },
  {
   "cell_type": "code",
   "execution_count": 28,
   "metadata": {},
   "outputs": [],
   "source": [
    "import matplotlib.pyplot as plt\n",
    "def show_train_history(train_history, train, validation):\n",
    "    plt.plot(train_history.history[train])\n",
    "    plt.plot(train_history.history[validation])\n",
    "    plt.title('Train History')\n",
    "    plt.ylabel(train)\n",
    "    plt.xlabel('Epoch')\n",
    "    plt.legend(['train', 'validation'], loc='upper left')\n",
    "    plt.show()"
   ]
  },
  {
   "cell_type": "code",
   "execution_count": 30,
   "metadata": {},
   "outputs": [
    {
     "data": {
      "image/png": "[encoded data removed]",
      "text/plain": [
       "<matplotlib.figure.Figure at 0x7f285032a908>"
      ]
     },
     "metadata": {},
     "output_type": "display_data"
    }
   ],
   "source": [
    "model.save_weights(cifarCnnModel.h5)\n",
    "show_train_history(train_history, 'acc', 'val_acc')"
   ]
  },
  {
   "cell_type": "code",
   "execution_count": 31,
   "metadata": {},
   "outputs": [
    {
     "data": {
      "image/png": "[encoded data removed]",
      "text/plain": [
       "<matplotlib.figure.Figure at 0x7f2852707860>"
      ]
     },
     "metadata": {},
     "output_type": "display_data"
    }
   ],
   "source": [
    "show_train_history(train_history, 'loss', 'val_loss')"
   ]
  },
  {
   "cell_type": "code",
   "execution_count": 36,
   "metadata": {},
   "outputs": [],
   "source": [
    "scores = model.evaluate(x_img_test_normalize, y_label_test_OneHot, verbose=0)"
   ]
  },
  {
   "cell_type": "code",
   "execution_count": 37,
   "metadata": {},
   "outputs": [
    {
     "data": {
      "text/plain": [
       "0.734"
      ]
     },
     "execution_count": 37,
     "metadata": {},
     "output_type": "execute_result"
    }
   ],
   "source": [
    "scores[1]"
   ]
  },
  {
   "cell_type": "code",
   "execution_count": 38,
   "metadata": {},
   "outputs": [],
   "source": [
    "prediction = model.predict_classes(x_img_test_normalize)"
   ]
  },
  {
   "cell_type": "code",
   "execution_count": 39,
   "metadata": {},
   "outputs": [
    {
     "data": {
      "text/plain": [
       "array([3, 8, 8, 0, 6, 6, 1, 6, 3, 1])"
      ]
     },
     "execution_count": 39,
     "metadata": {},
     "output_type": "execute_result"
    }
   ],
   "source": [
    "prediction[:10]"
   ]
  },
  {
   "cell_type": "code",
   "execution_count": 40,
   "metadata": {},
   "outputs": [
    {
     "data": {
      "image/png": "[encoded data removed]",
      "text/plain": [
       "<matplotlib.figure.Figure at 0x7f2848680240>"
      ]
     },
     "metadata": {},
     "output_type": "display_data"
    }
   ],
   "source": [
    "plot_images_labels_prediction(x_img_test, y_label_test, prediction, 0, 10)"
   ]
  },
  {
   "cell_type": "code",
   "execution_count": 41,
   "metadata": {},
   "outputs": [],
   "source": [
    "Predicted_Probability = model.predict(x_img_test_normalize)"
   ]
  },
  {
   "cell_type": "code",
   "execution_count": 42,
   "metadata": {},
   "outputs": [],
   "source": [
    "def show_Predicted_Probability(y, prediction, x_img, Predicted_Probability, i):\n",
    "    print('label:', label_dict[y[i][0]], 'predict', label_dict[prediction[i]])\n",
    "    plt.figure(figsize=(2,2))\n",
    "    plt.imshow(np.reshape(x_img_test[i], (32, 32, 3)))\n",
    "    plt.show()\n",
    "    for j in range(10):\n",
    "        print(label_dict[j]+' Probability: %1.9f'%(Predicted_Probability[i][j]))"
   ]
  },
  {
   "cell_type": "code",
   "execution_count": 43,
   "metadata": {},
   "outputs": [
    {
     "name": "stdout",
     "output_type": "stream",
     "text": [
      "label: cat predict cat\n"
     ]
    },
    {
     "data": {
      "image/png": "[encoded data removed]",
      "text/plain": [
       "<matplotlib.figure.Figure at 0x7f2840a1d668>"
      ]
     },
     "metadata": {},
     "output_type": "display_data"
    },
    {
     "name": "stdout",
     "output_type": "stream",
     "text": [
      "airplane Probability: 0.007213318\n",
      "automobile Probability: 0.006730307\n",
      "bird Probability: 0.009404926\n",
      "cat Probability: 0.590834677\n",
      "deer Probability: 0.003309022\n",
      "dog Probability: 0.315733463\n",
      "frog Probability: 0.031798709\n",
      "horse Probability: 0.003479582\n",
      "ship Probability: 0.029589778\n",
      "trunk Probability: 0.001906249\n"
     ]
    }
   ],
   "source": [
    "show_Predicted_Probability(y_label_test, prediction, x_img_test, Predicted_Probability, 0)"
   ]
  },
  {
   "cell_type": "code",
   "execution_count": 44,
   "metadata": {},
   "outputs": [
    {
     "name": "stdout",
     "output_type": "stream",
     "text": [
      "label: airplane predict airplane\n"
     ]
    },
    {
     "data": {
      "image/png": "[encoded data removed]",
      "text/plain": [
       "<matplotlib.figure.Figure at 0x7f2840a20cf8>"
      ]
     },
     "metadata": {},
     "output_type": "display_data"
    },
    {
     "name": "stdout",
     "output_type": "stream",
     "text": [
      "airplane Probability: 0.747495890\n",
      "automobile Probability: 0.001505030\n",
      "bird Probability: 0.012037883\n",
      "cat Probability: 0.000925234\n",
      "deer Probability: 0.005451246\n",
      "dog Probability: 0.000052195\n",
      "frog Probability: 0.000077944\n",
      "horse Probability: 0.000023802\n",
      "ship Probability: 0.232087225\n",
      "trunk Probability: 0.000343664\n"
     ]
    }
   ],
   "source": [
    "show_Predicted_Probability(y_label_test, prediction, x_img_test, Predicted_Probability, 3)"
   ]
  },
  {
   "cell_type": "code",
   "execution_count": 45,
   "metadata": {},
   "outputs": [
    {
     "data": {
      "text/plain": [
       "(10000,)"
      ]
     },
     "execution_count": 45,
     "metadata": {},
     "output_type": "execute_result"
    }
   ],
   "source": [
    "prediction.shape"
   ]
  },
  {
   "cell_type": "code",
   "execution_count": 46,
   "metadata": {},
   "outputs": [
    {
     "data": {
      "text/plain": [
       "(10000, 1)"
      ]
     },
     "execution_count": 46,
     "metadata": {},
     "output_type": "execute_result"
    }
   ],
   "source": [
    "y_label_test.shape"
   ]
  },
  {
   "cell_type": "code",
   "execution_count": 47,
   "metadata": {},
   "outputs": [
    {
     "data": {
      "text/plain": [
       "array([3, 8, 8, ..., 5, 1, 7])"
      ]
     },
     "execution_count": 47,
     "metadata": {},
     "output_type": "execute_result"
    }
   ],
   "source": [
    "y_label_test.reshape(-1)"
   ]
  },
  {
   "cell_type": "code",
   "execution_count": 48,
   "metadata": {},
   "outputs": [
    {
     "name": "stdout",
     "output_type": "stream",
     "text": [
      "{0: 'airplane', 1: 'automobile', 2: 'bird', 3: 'cat', 4: 'deer', 5: 'dog', 6: 'frog', 7: 'horse', 8: 'ship', 9: 'trunk'}\n"
     ]
    },
    {
     "data": {
      "text/html": [
       "<div>\n",
       "<style scoped>\n",
       "    .dataframe tbody tr th:only-of-type {\n",
       "        vertical-align: middle;\n",
       "    }\n",
       "\n",
       "    .dataframe tbody tr th {\n",
       "        vertical-align: top;\n",
       "    }\n",
       "\n",
       "    .dataframe thead th {\n",
       "        text-align: right;\n",
       "    }\n",
       "</style>\n",
       "<table border=\"1\" class=\"dataframe\">\n",
       "  <thead>\n",
       "    <tr style=\"text-align: right;\">\n",
       "      <th>prediction</th>\n",
       "      <th>0</th>\n",
       "      <th>1</th>\n",
       "      <th>2</th>\n",
       "      <th>3</th>\n",
       "      <th>4</th>\n",
       "      <th>5</th>\n",
       "      <th>6</th>\n",
       "      <th>7</th>\n",
       "      <th>8</th>\n",
       "      <th>9</th>\n",
       "    </tr>\n",
       "    <tr>\n",
       "      <th>label</th>\n",
       "      <th></th>\n",
       "      <th></th>\n",
       "      <th></th>\n",
       "      <th></th>\n",
       "      <th></th>\n",
       "      <th></th>\n",
       "      <th></th>\n",
       "      <th></th>\n",
       "      <th></th>\n",
       "      <th></th>\n",
       "    </tr>\n",
       "  </thead>\n",
       "  <tbody>\n",
       "    <tr>\n",
       "      <th>0</th>\n",
       "      <td>791</td>\n",
       "      <td>9</td>\n",
       "      <td>57</td>\n",
       "      <td>14</td>\n",
       "      <td>15</td>\n",
       "      <td>9</td>\n",
       "      <td>12</td>\n",
       "      <td>3</td>\n",
       "      <td>70</td>\n",
       "      <td>20</td>\n",
       "    </tr>\n",
       "    <tr>\n",
       "      <th>1</th>\n",
       "      <td>20</td>\n",
       "      <td>833</td>\n",
       "      <td>17</td>\n",
       "      <td>15</td>\n",
       "      <td>3</td>\n",
       "      <td>9</td>\n",
       "      <td>16</td>\n",
       "      <td>3</td>\n",
       "      <td>32</td>\n",
       "      <td>52</td>\n",
       "    </tr>\n",
       "    <tr>\n",
       "      <th>2</th>\n",
       "      <td>54</td>\n",
       "      <td>1</td>\n",
       "      <td>663</td>\n",
       "      <td>38</td>\n",
       "      <td>72</td>\n",
       "      <td>65</td>\n",
       "      <td>79</td>\n",
       "      <td>14</td>\n",
       "      <td>12</td>\n",
       "      <td>2</td>\n",
       "    </tr>\n",
       "    <tr>\n",
       "      <th>3</th>\n",
       "      <td>25</td>\n",
       "      <td>8</td>\n",
       "      <td>96</td>\n",
       "      <td>495</td>\n",
       "      <td>42</td>\n",
       "      <td>192</td>\n",
       "      <td>107</td>\n",
       "      <td>20</td>\n",
       "      <td>10</td>\n",
       "      <td>5</td>\n",
       "    </tr>\n",
       "    <tr>\n",
       "      <th>4</th>\n",
       "      <td>20</td>\n",
       "      <td>2</td>\n",
       "      <td>98</td>\n",
       "      <td>47</td>\n",
       "      <td>686</td>\n",
       "      <td>37</td>\n",
       "      <td>79</td>\n",
       "      <td>17</td>\n",
       "      <td>13</td>\n",
       "      <td>1</td>\n",
       "    </tr>\n",
       "    <tr>\n",
       "      <th>5</th>\n",
       "      <td>11</td>\n",
       "      <td>0</td>\n",
       "      <td>60</td>\n",
       "      <td>139</td>\n",
       "      <td>37</td>\n",
       "      <td>671</td>\n",
       "      <td>46</td>\n",
       "      <td>27</td>\n",
       "      <td>5</td>\n",
       "      <td>4</td>\n",
       "    </tr>\n",
       "    <tr>\n",
       "      <th>6</th>\n",
       "      <td>6</td>\n",
       "      <td>5</td>\n",
       "      <td>40</td>\n",
       "      <td>37</td>\n",
       "      <td>13</td>\n",
       "      <td>17</td>\n",
       "      <td>876</td>\n",
       "      <td>2</td>\n",
       "      <td>3</td>\n",
       "      <td>1</td>\n",
       "    </tr>\n",
       "    <tr>\n",
       "      <th>7</th>\n",
       "      <td>11</td>\n",
       "      <td>1</td>\n",
       "      <td>49</td>\n",
       "      <td>37</td>\n",
       "      <td>74</td>\n",
       "      <td>87</td>\n",
       "      <td>11</td>\n",
       "      <td>719</td>\n",
       "      <td>5</td>\n",
       "      <td>6</td>\n",
       "    </tr>\n",
       "    <tr>\n",
       "      <th>8</th>\n",
       "      <td>43</td>\n",
       "      <td>25</td>\n",
       "      <td>20</td>\n",
       "      <td>13</td>\n",
       "      <td>6</td>\n",
       "      <td>6</td>\n",
       "      <td>13</td>\n",
       "      <td>1</td>\n",
       "      <td>863</td>\n",
       "      <td>10</td>\n",
       "    </tr>\n",
       "    <tr>\n",
       "      <th>9</th>\n",
       "      <td>52</td>\n",
       "      <td>91</td>\n",
       "      <td>19</td>\n",
       "      <td>28</td>\n",
       "      <td>0</td>\n",
       "      <td>12</td>\n",
       "      <td>13</td>\n",
       "      <td>10</td>\n",
       "      <td>32</td>\n",
       "      <td>743</td>\n",
       "    </tr>\n",
       "  </tbody>\n",
       "</table>\n",
       "</div>"
      ],
      "text/plain": [
       "prediction    0    1    2    3    4    5    6    7    8    9\n",
       "label                                                       \n",
       "0           791    9   57   14   15    9   12    3   70   20\n",
       "1            20  833   17   15    3    9   16    3   32   52\n",
       "2            54    1  663   38   72   65   79   14   12    2\n",
       "3            25    8   96  495   42  192  107   20   10    5\n",
       "4            20    2   98   47  686   37   79   17   13    1\n",
       "5            11    0   60  139   37  671   46   27    5    4\n",
       "6             6    5   40   37   13   17  876    2    3    1\n",
       "7            11    1   49   37   74   87   11  719    5    6\n",
       "8            43   25   20   13    6    6   13    1  863   10\n",
       "9            52   91   19   28    0   12   13   10   32  743"
      ]
     },
     "execution_count": 48,
     "metadata": {},
     "output_type": "execute_result"
    }
   ],
   "source": [
    "import pandas as pd\n",
    "print(label_dict)\n",
    "pd.crosstab(y_label_test.reshape(-1), prediction, rownames=['label'], colnames=['prediction'])"
   ]
  },
  {
   "cell_type": "code",
   "execution_count": null,
   "metadata": {},
   "outputs": [],
   "source": []
  }
 ],
 "metadata": {
  "kernelspec": {
   "display_name": "Python 3",
   "language": "python",
   "name": "python3"
  },
  "language_info": {
   "codemirror_mode": {
    "name": "ipython",
    "version": 3
   },
   "file_extension": ".py",
   "mimetype": "text/x-python",
   "name": "python",
   "nbconvert_exporter": "python",
   "pygments_lexer": "ipython3",
   "version": "3.6.4"
  }
 },
 "nbformat": 4,
 "nbformat_minor": 2
}
